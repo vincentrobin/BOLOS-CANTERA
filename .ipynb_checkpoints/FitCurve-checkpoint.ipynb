{
 "cells": [
  {
   "cell_type": "code",
   "execution_count": null,
   "metadata": {},
   "outputs": [],
   "source": [
    "import matplotlib.pyplot as plt\n",
    "import numpy as np\n",
    "import scipy.constants as co\n",
    "\n",
    "from scipy.optimize import curve_fit\n",
    "\n",
    "def Arrhenius(TeV,a,b,Ta):\n",
    "    # Arrhenius function in [m3/s]\n",
    "    # we must convert TeV in eV into Kelvin\n",
    "    # by multiply with e/kB\n",
    "    T = TeV * co.e / co.k * 2/3\n",
    "    A = np.exp(a)\n",
    "    return A* T**b *np.exp(-Ta/T)\n",
    "\n",
    "def Arr_reduced(T,a,b,Ta):\n",
    "    return a + b*np.log(T) - Ta/T\n",
    "\n",
    "def Chisquare(y_data, y_fit):\n",
    "    return np.sum((y_data-y_fit)**2)\n",
    "\n",
    "###################################################\n",
    "# INPUT DATA FOR FITTING\n",
    "input_file = 'CH4(V13)(0361eV)Bolsig.dat'\n",
    "data = np.loadtxt(input_file)\n",
    "x1 = data[:,0]*co.e/co.k *2/3   # electron temperature K\n",
    "y1 = np.log(data[:,1])          # rate coefficient m3/s\n",
    "n = len(x1)\n",
    "x2 = data[:,0]                  # Mean electron energy eV\n",
    "y2 = data[:,1]                  # rate coefficient m3/s\n",
    "\n",
    "# Fit by least chi - square method\n",
    "c, cov = curve_fit(Arr_reduced, x1, y1)           # Fit by Logarithm Equation\n",
    "c2, cov2 = curve_fit(Arrhenius, x2, y2, p0 = c)    # Re-Fit by Original Equation\n",
    "print('Pre-fit      a = %10.4e , b = %10.4e , Ta = %10.4e' % (c[0], c[1], c[2]))\n",
    "print('Fincal-fit   A = %10.4e , b = %10.4e , Ta = %10.4e' % (np.exp(c2[0]), c2[1], c2[2]))\n",
    "\n",
    "\n",
    "y_fit2 = np.empty_like(x1)\n",
    "for i in range(n):\n",
    "    y_fit2[i] = Arrhenius(x2[i],c2[0],c2[1],c2[2])   # m3/s\n",
    "\n",
    "chisq_fit2 = Chisquare(y2,y_fit2)\n",
    "print('Chi - Square of Final-fit:  %10.4e'% chisq_fit2)\n",
    "\n",
    "plt.figure()\n",
    "plt.plot(x2,y2,label = 'data')\n",
    "plt.plot(x2,y_fit2,label = 'fit')\n",
    "plt.legend()\n",
    "plt.title('Combine method \\n CH4 -> CH4(V13)(0.361eV)')\n",
    "plt.xlabel('Mean electron energy (eV)')\n",
    "plt.ylabel('k (m$^\\mathdefault{3}$/s)')\n",
    "plt.show()"
   ]
  }
 ],
 "metadata": {
  "kernelspec": {
   "display_name": "Python 3",
   "language": "python",
   "name": "python3"
  },
  "language_info": {
   "codemirror_mode": {
    "name": "ipython",
    "version": 3
   },
   "file_extension": ".py",
   "mimetype": "text/x-python",
   "name": "python",
   "nbconvert_exporter": "python",
   "pygments_lexer": "ipython3",
   "version": "3.7.9"
  }
 },
 "nbformat": 4,
 "nbformat_minor": 4
}
